{
  "cells": [
    {
      "cell_type": "markdown",
      "metadata": {
        "id": "_a9SvppK5Vtl"
      },
      "source": [
        "# General pipeline for project 1\n",
        "This is an example pipeline showing you how to  \n",
        "(1) Load the provided data;  \n",
        "(2) Train models on the train set, and use the validation set to evaluate your model performance;  \n",
        "(3) Generate predictions (pred.csv) on the test set, which is ready for submission."
      ]
    },
    {
      "cell_type": "code",
      "execution_count": null,
      "metadata": {
        "colab": {
          "base_uri": "https://localhost:8080/"
        },
        "id": "0ILgNJU85Vtn",
        "outputId": "3e7f2100-8e45-4015-9157-c1e47fbaf1cc"
      },
      "outputs": [
        {
          "output_type": "stream",
          "name": "stderr",
          "text": [
            "[nltk_data] Downloading package stopwords to /root/nltk_data...\n",
            "[nltk_data]   Package stopwords is already up-to-date!\n",
            "[nltk_data] Downloading package punkt to /root/nltk_data...\n",
            "[nltk_data]   Package punkt is already up-to-date!\n"
          ]
        }
      ],
      "source": [
        "import os\n",
        "import nltk\n",
        "import math\n",
        "import pandas as pd\n",
        "import numpy as np\n",
        "import tensorflow.keras as K\n",
        "import tensorflow as tf\n",
        "import matplotlib.pyplot as plt\n",
        "from collections import Counter\n",
        "from itertools import chain\n",
        "from sklearn.metrics import accuracy_score, f1_score\n",
        "from tensorflow.keras.models import Sequential\n",
        "from tensorflow.keras.layers import Dense\n",
        "from nltk.corpus import stopwords\n",
        "from nltk.stem import PorterStemmer\n",
        "\n",
        "nltk.download('stopwords')\n",
        "nltk.download('punkt')\n",
        "\n",
        "stopwords = set(stopwords.words(\"english\"))\n",
        "ps = PorterStemmer()\n",
        "\n",
        "# just to ignore the matplotlib warnings to make the plots look better\n",
        "import warnings\n",
        "warnings.filterwarnings('ignore')"
      ]
    },
    {
      "cell_type": "code",
      "execution_count": null,
      "metadata": {
        "id": "2teMTW49EsrD"
      },
      "outputs": [],
      "source": [
        "# if you use Google Colab, un-comment this cell, modify `path_to_data` if needed, and run to mount data to `data`\n",
        "# from google.colab import drive\n",
        "# drive.mount('/content/drive')\n",
        "\n",
        "# path_to_data = '/content/drive/MyDrive/HKUST stuff/COMP4332_Project1/data'\n",
        "# !rm -f data\n",
        "# !ln -s '/content/drive/MyDrive/HKUST stuff/COMP4332_Project1/data' data"
      ]
    },
    {
      "cell_type": "markdown",
      "metadata": {
        "id": "M1KvPSs65Vto"
      },
      "source": [
        "### (1) Loading data\n",
        "The following code shows how to load the datasets for this project.  \n",
        "Among which, we do not release the labels (the \"stars\" column) for the test set. You may evaluate your trained model on the validation set instead.\n",
        "\n",
        "However, your submitted predictions (``pred.csv``) should be generated on the test set."
      ]
    },
    {
      "cell_type": "code",
      "execution_count": null,
      "metadata": {
        "id": "wvmtdMvT5Vto"
      },
      "outputs": [],
      "source": [
        "def load_data(split_name='train', columns=['text', 'stars']):   # remove folder = \"data\"\n",
        "    '''\n",
        "        \"split_name\" may be set as 'train', 'valid' or 'test' to load the corresponding dataset.\n",
        "        \n",
        "        You may also specify the column names to load any columns in the .csv data file.\n",
        "        Among many, \"text\" can be used as model input, and \"stars\" column is the labels (sentiment). \n",
        "        If you like, you are free to use columns other than \"text\" for prediction.\n",
        "    '''\n",
        "    try:\n",
        "        print(f\"select [{', '.join(columns)}] columns from the {split_name} split\")\n",
        "        df = pd.read_csv(f'{split_name}.csv')    #remove {folder}/\n",
        "        df = df.loc[:,columns]\n",
        "        print(\"Success\")\n",
        "        return df\n",
        "    except:\n",
        "        print(f\"Failed loading specified columns... Returning all columns from the {split_name} split\")\n",
        "        df = pd.read_csv(f'{split_name}.csv')     #remove {folder}/\n",
        "        return df"
      ]
    },
    {
      "cell_type": "code",
      "execution_count": null,
      "metadata": {
        "colab": {
          "base_uri": "https://localhost:8080/"
        },
        "id": "uemwLtaB5Vtp",
        "outputId": "330559db-10ee-4b7d-d963-14cf4a85ed2a"
      },
      "outputs": [
        {
          "output_type": "stream",
          "name": "stdout",
          "text": [
            "select [text, stars] columns from the train split\n",
            "Success\n",
            "select [text, stars] columns from the valid split\n",
            "Success\n",
            "select [text, stars] columns from the test split\n",
            "Failed loading specified columns... Returning all columns from the test split\n"
          ]
        }
      ],
      "source": [
        "train_df = load_data('train', columns=['text', 'stars'])\n",
        "valid_df = load_data('valid', columns=['text', 'stars'])\n",
        "# the test set labels (the 'stars' column) are not available! So the following code will instead return all columns\n",
        "test_df = load_data('test', columns=['text', 'stars'])"
      ]
    },
    {
      "cell_type": "code",
      "execution_count": null,
      "metadata": {
        "colab": {
          "base_uri": "https://localhost:8080/",
          "height": 641
        },
        "id": "YtFQUJuT5Vtq",
        "outputId": "a53b8909-21b1-45f4-b7ca-d16fab786b32"
      },
      "outputs": [
        {
          "output_type": "execute_result",
          "data": {
            "text/plain": [
              "                 business_id  cool                 date  funny  \\\n",
              "0     V-qDa2kr5qWdhs7PU-l-3Q     0           2013-05-29      0   \n",
              "1     C1zlvNlxlGZB8g0162QslQ     0  2012-03-02 15:51:49      0   \n",
              "2     0FOON_PNvG0ZxIZh6Jcv2A     0  2013-09-24 20:31:37      0   \n",
              "3     r49iBfbnfoK7yt4rdsL_7g     0  2018-10-20 01:34:08      0   \n",
              "4     xnLNPkL7bbdhD842T4oPqg     0           2016-09-25      1   \n",
              "...                      ...   ...                  ...    ...   \n",
              "3995  x_0Vf8AVBk_auLnNHRjoVA     2  2013-05-18 03:06:21      0   \n",
              "3996  KAJAsjVhYUPb6b_yodVqvA     0  2018-05-06 05:33:47      0   \n",
              "3997  EnKpL0rRg1MTTKncmxbnMA     0  2012-03-21 20:49:25      0   \n",
              "3998  -NR4KqS6lHseNvJ-GFzfMA     2           2016-08-14      1   \n",
              "3999  kkQxwd2nVlHs1C4fdoAxOg     0  2017-08-03 03:16:49      0   \n",
              "\n",
              "                   review_id  \\\n",
              "0     fBHWLNEJmhk6AkzmfLwWcw   \n",
              "1     ldEQ02aP1OeSa5N2beseNg   \n",
              "2     0oGr6v9VjtRsRsROGMoWTA   \n",
              "3     eg5eJ5HmqXuzkxucnKvMTw   \n",
              "4     BNDAe34Mxj--Brkzcfi4QA   \n",
              "...                      ...   \n",
              "3995  s7FLCfjgopRM6olA1NSccg   \n",
              "3996  oJUnsu4PpTZz-kCE88-9uQ   \n",
              "3997  celcHgmV26VvtzGdUFsR5w   \n",
              "3998  69yY48SDj-UDCKlGgn-nqg   \n",
              "3999  ZM5BFUmzRpZAjwY8jW2Gzg   \n",
              "\n",
              "                                                   text  useful  \\\n",
              "0     Would like to give this more stars - usually I...       1   \n",
              "1     My wife and I took some friends here after din...       0   \n",
              "2     My husband and I had lunch here for the first ...       0   \n",
              "3     I love coming here with my friends! Great for ...       2   \n",
              "4     Make sure that you double check how much these...       1   \n",
              "...                                                 ...     ...   \n",
              "3995  We live nearby and have stopped by this McDona...       0   \n",
              "3996  It was boring as ever! All Spanish music so I ...       0   \n",
              "3997  Was a long time customer, I was entertaining c...       1   \n",
              "3998  I really like this place! I like how you can t...       2   \n",
              "3999  The most cash back you can get here is $20. I ...       0   \n",
              "\n",
              "                     user_id  \n",
              "0     1pigoFijaHVWGrQl1_tYjw  \n",
              "1     BKWPuPZFcGmgjRFRzoq1pw  \n",
              "2     BYVYXKqNs-vv-N1ZhRMs0g  \n",
              "3     dpzmyNglDMeTgV3T5ylUSQ  \n",
              "4     yk9wx31bfMEe_IXB8Q-ylA  \n",
              "...                      ...  \n",
              "3995  Nf3VduiXhQVZRvM2GiXi-w  \n",
              "3996  T3hk43jr0t7ZK8RPmce4sQ  \n",
              "3997  WFWzzvWM45zTx-EShrVVxw  \n",
              "3998  SS3sFA9ksCT9bjocM3Wbug  \n",
              "3999  o7sVRYWSskPEv9veCYes-g  \n",
              "\n",
              "[4000 rows x 8 columns]"
            ],
            "text/html": [
              "\n",
              "  <div id=\"df-5a399a71-7557-40c4-bd8b-9b8a307ec20f\">\n",
              "    <div class=\"colab-df-container\">\n",
              "      <div>\n",
              "<style scoped>\n",
              "    .dataframe tbody tr th:only-of-type {\n",
              "        vertical-align: middle;\n",
              "    }\n",
              "\n",
              "    .dataframe tbody tr th {\n",
              "        vertical-align: top;\n",
              "    }\n",
              "\n",
              "    .dataframe thead th {\n",
              "        text-align: right;\n",
              "    }\n",
              "</style>\n",
              "<table border=\"1\" class=\"dataframe\">\n",
              "  <thead>\n",
              "    <tr style=\"text-align: right;\">\n",
              "      <th></th>\n",
              "      <th>business_id</th>\n",
              "      <th>cool</th>\n",
              "      <th>date</th>\n",
              "      <th>funny</th>\n",
              "      <th>review_id</th>\n",
              "      <th>text</th>\n",
              "      <th>useful</th>\n",
              "      <th>user_id</th>\n",
              "    </tr>\n",
              "  </thead>\n",
              "  <tbody>\n",
              "    <tr>\n",
              "      <th>0</th>\n",
              "      <td>V-qDa2kr5qWdhs7PU-l-3Q</td>\n",
              "      <td>0</td>\n",
              "      <td>2013-05-29</td>\n",
              "      <td>0</td>\n",
              "      <td>fBHWLNEJmhk6AkzmfLwWcw</td>\n",
              "      <td>Would like to give this more stars - usually I...</td>\n",
              "      <td>1</td>\n",
              "      <td>1pigoFijaHVWGrQl1_tYjw</td>\n",
              "    </tr>\n",
              "    <tr>\n",
              "      <th>1</th>\n",
              "      <td>C1zlvNlxlGZB8g0162QslQ</td>\n",
              "      <td>0</td>\n",
              "      <td>2012-03-02 15:51:49</td>\n",
              "      <td>0</td>\n",
              "      <td>ldEQ02aP1OeSa5N2beseNg</td>\n",
              "      <td>My wife and I took some friends here after din...</td>\n",
              "      <td>0</td>\n",
              "      <td>BKWPuPZFcGmgjRFRzoq1pw</td>\n",
              "    </tr>\n",
              "    <tr>\n",
              "      <th>2</th>\n",
              "      <td>0FOON_PNvG0ZxIZh6Jcv2A</td>\n",
              "      <td>0</td>\n",
              "      <td>2013-09-24 20:31:37</td>\n",
              "      <td>0</td>\n",
              "      <td>0oGr6v9VjtRsRsROGMoWTA</td>\n",
              "      <td>My husband and I had lunch here for the first ...</td>\n",
              "      <td>0</td>\n",
              "      <td>BYVYXKqNs-vv-N1ZhRMs0g</td>\n",
              "    </tr>\n",
              "    <tr>\n",
              "      <th>3</th>\n",
              "      <td>r49iBfbnfoK7yt4rdsL_7g</td>\n",
              "      <td>0</td>\n",
              "      <td>2018-10-20 01:34:08</td>\n",
              "      <td>0</td>\n",
              "      <td>eg5eJ5HmqXuzkxucnKvMTw</td>\n",
              "      <td>I love coming here with my friends! Great for ...</td>\n",
              "      <td>2</td>\n",
              "      <td>dpzmyNglDMeTgV3T5ylUSQ</td>\n",
              "    </tr>\n",
              "    <tr>\n",
              "      <th>4</th>\n",
              "      <td>xnLNPkL7bbdhD842T4oPqg</td>\n",
              "      <td>0</td>\n",
              "      <td>2016-09-25</td>\n",
              "      <td>1</td>\n",
              "      <td>BNDAe34Mxj--Brkzcfi4QA</td>\n",
              "      <td>Make sure that you double check how much these...</td>\n",
              "      <td>1</td>\n",
              "      <td>yk9wx31bfMEe_IXB8Q-ylA</td>\n",
              "    </tr>\n",
              "    <tr>\n",
              "      <th>...</th>\n",
              "      <td>...</td>\n",
              "      <td>...</td>\n",
              "      <td>...</td>\n",
              "      <td>...</td>\n",
              "      <td>...</td>\n",
              "      <td>...</td>\n",
              "      <td>...</td>\n",
              "      <td>...</td>\n",
              "    </tr>\n",
              "    <tr>\n",
              "      <th>3995</th>\n",
              "      <td>x_0Vf8AVBk_auLnNHRjoVA</td>\n",
              "      <td>2</td>\n",
              "      <td>2013-05-18 03:06:21</td>\n",
              "      <td>0</td>\n",
              "      <td>s7FLCfjgopRM6olA1NSccg</td>\n",
              "      <td>We live nearby and have stopped by this McDona...</td>\n",
              "      <td>0</td>\n",
              "      <td>Nf3VduiXhQVZRvM2GiXi-w</td>\n",
              "    </tr>\n",
              "    <tr>\n",
              "      <th>3996</th>\n",
              "      <td>KAJAsjVhYUPb6b_yodVqvA</td>\n",
              "      <td>0</td>\n",
              "      <td>2018-05-06 05:33:47</td>\n",
              "      <td>0</td>\n",
              "      <td>oJUnsu4PpTZz-kCE88-9uQ</td>\n",
              "      <td>It was boring as ever! All Spanish music so I ...</td>\n",
              "      <td>0</td>\n",
              "      <td>T3hk43jr0t7ZK8RPmce4sQ</td>\n",
              "    </tr>\n",
              "    <tr>\n",
              "      <th>3997</th>\n",
              "      <td>EnKpL0rRg1MTTKncmxbnMA</td>\n",
              "      <td>0</td>\n",
              "      <td>2012-03-21 20:49:25</td>\n",
              "      <td>0</td>\n",
              "      <td>celcHgmV26VvtzGdUFsR5w</td>\n",
              "      <td>Was a long time customer, I was entertaining c...</td>\n",
              "      <td>1</td>\n",
              "      <td>WFWzzvWM45zTx-EShrVVxw</td>\n",
              "    </tr>\n",
              "    <tr>\n",
              "      <th>3998</th>\n",
              "      <td>-NR4KqS6lHseNvJ-GFzfMA</td>\n",
              "      <td>2</td>\n",
              "      <td>2016-08-14</td>\n",
              "      <td>1</td>\n",
              "      <td>69yY48SDj-UDCKlGgn-nqg</td>\n",
              "      <td>I really like this place! I like how you can t...</td>\n",
              "      <td>2</td>\n",
              "      <td>SS3sFA9ksCT9bjocM3Wbug</td>\n",
              "    </tr>\n",
              "    <tr>\n",
              "      <th>3999</th>\n",
              "      <td>kkQxwd2nVlHs1C4fdoAxOg</td>\n",
              "      <td>0</td>\n",
              "      <td>2017-08-03 03:16:49</td>\n",
              "      <td>0</td>\n",
              "      <td>ZM5BFUmzRpZAjwY8jW2Gzg</td>\n",
              "      <td>The most cash back you can get here is $20. I ...</td>\n",
              "      <td>0</td>\n",
              "      <td>o7sVRYWSskPEv9veCYes-g</td>\n",
              "    </tr>\n",
              "  </tbody>\n",
              "</table>\n",
              "<p>4000 rows × 8 columns</p>\n",
              "</div>\n",
              "      <button class=\"colab-df-convert\" onclick=\"convertToInteractive('df-5a399a71-7557-40c4-bd8b-9b8a307ec20f')\"\n",
              "              title=\"Convert this dataframe to an interactive table.\"\n",
              "              style=\"display:none;\">\n",
              "        \n",
              "  <svg xmlns=\"http://www.w3.org/2000/svg\" height=\"24px\"viewBox=\"0 0 24 24\"\n",
              "       width=\"24px\">\n",
              "    <path d=\"M0 0h24v24H0V0z\" fill=\"none\"/>\n",
              "    <path d=\"M18.56 5.44l.94 2.06.94-2.06 2.06-.94-2.06-.94-.94-2.06-.94 2.06-2.06.94zm-11 1L8.5 8.5l.94-2.06 2.06-.94-2.06-.94L8.5 2.5l-.94 2.06-2.06.94zm10 10l.94 2.06.94-2.06 2.06-.94-2.06-.94-.94-2.06-.94 2.06-2.06.94z\"/><path d=\"M17.41 7.96l-1.37-1.37c-.4-.4-.92-.59-1.43-.59-.52 0-1.04.2-1.43.59L10.3 9.45l-7.72 7.72c-.78.78-.78 2.05 0 2.83L4 21.41c.39.39.9.59 1.41.59.51 0 1.02-.2 1.41-.59l7.78-7.78 2.81-2.81c.8-.78.8-2.07 0-2.86zM5.41 20L4 18.59l7.72-7.72 1.47 1.35L5.41 20z\"/>\n",
              "  </svg>\n",
              "      </button>\n",
              "      \n",
              "  <style>\n",
              "    .colab-df-container {\n",
              "      display:flex;\n",
              "      flex-wrap:wrap;\n",
              "      gap: 12px;\n",
              "    }\n",
              "\n",
              "    .colab-df-convert {\n",
              "      background-color: #E8F0FE;\n",
              "      border: none;\n",
              "      border-radius: 50%;\n",
              "      cursor: pointer;\n",
              "      display: none;\n",
              "      fill: #1967D2;\n",
              "      height: 32px;\n",
              "      padding: 0 0 0 0;\n",
              "      width: 32px;\n",
              "    }\n",
              "\n",
              "    .colab-df-convert:hover {\n",
              "      background-color: #E2EBFA;\n",
              "      box-shadow: 0px 1px 2px rgba(60, 64, 67, 0.3), 0px 1px 3px 1px rgba(60, 64, 67, 0.15);\n",
              "      fill: #174EA6;\n",
              "    }\n",
              "\n",
              "    [theme=dark] .colab-df-convert {\n",
              "      background-color: #3B4455;\n",
              "      fill: #D2E3FC;\n",
              "    }\n",
              "\n",
              "    [theme=dark] .colab-df-convert:hover {\n",
              "      background-color: #434B5C;\n",
              "      box-shadow: 0px 1px 3px 1px rgba(0, 0, 0, 0.15);\n",
              "      filter: drop-shadow(0px 1px 2px rgba(0, 0, 0, 0.3));\n",
              "      fill: #FFFFFF;\n",
              "    }\n",
              "  </style>\n",
              "\n",
              "      <script>\n",
              "        const buttonEl =\n",
              "          document.querySelector('#df-5a399a71-7557-40c4-bd8b-9b8a307ec20f button.colab-df-convert');\n",
              "        buttonEl.style.display =\n",
              "          google.colab.kernel.accessAllowed ? 'block' : 'none';\n",
              "\n",
              "        async function convertToInteractive(key) {\n",
              "          const element = document.querySelector('#df-5a399a71-7557-40c4-bd8b-9b8a307ec20f');\n",
              "          const dataTable =\n",
              "            await google.colab.kernel.invokeFunction('convertToInteractive',\n",
              "                                                     [key], {});\n",
              "          if (!dataTable) return;\n",
              "\n",
              "          const docLinkHtml = 'Like what you see? Visit the ' +\n",
              "            '<a target=\"_blank\" href=https://colab.research.google.com/notebooks/data_table.ipynb>data table notebook</a>'\n",
              "            + ' to learn more about interactive tables.';\n",
              "          element.innerHTML = '';\n",
              "          dataTable['output_type'] = 'display_data';\n",
              "          await google.colab.output.renderOutput(dataTable, element);\n",
              "          const docLink = document.createElement('div');\n",
              "          docLink.innerHTML = docLinkHtml;\n",
              "          element.appendChild(docLink);\n",
              "        }\n",
              "      </script>\n",
              "    </div>\n",
              "  </div>\n",
              "  "
            ]
          },
          "metadata": {},
          "execution_count": 5
        }
      ],
      "source": [
        "# test_df.columns\n",
        "# print(train_df.columns)\n",
        "# print(valid_df.columns)\n",
        "# print(test_df.columns)\n",
        "test_df"
      ]
    },
    {
      "cell_type": "code",
      "execution_count": null,
      "metadata": {
        "colab": {
          "base_uri": "https://localhost:8080/"
        },
        "id": "uuSdlqoE49Iy",
        "outputId": "a33223dd-6981-42cc-e6f5-b7a1de279eda"
      },
      "outputs": [
        {
          "output_type": "stream",
          "name": "stderr",
          "text": [
            "[nltk_data] Downloading package stopwords to /root/nltk_data...\n",
            "[nltk_data]   Package stopwords is already up-to-date!\n"
          ]
        }
      ],
      "source": [
        "from nltk.stem import PorterStemmer\n",
        "import nltk\n",
        "from nltk.corpus import stopwords\n",
        "nltk.download('stopwords')\n",
        "stopwords = set(stopwords.words('english'))\n",
        "ps = PorterStemmer()\n",
        "\n",
        "def tokenize(text):\n",
        "    \"\"\"\n",
        "    :param text: a doc with multiple sentences, type: str\n",
        "    return a word list, type: list\n",
        "    e.g.\n",
        "    Input: 'Text mining is to identify useful information.'\n",
        "    Output: ['Text', 'mining', 'is', 'to', 'identify', 'useful', 'information', '.']\n",
        "    \"\"\"\n",
        "    return nltk.word_tokenize(text)\n",
        "\n",
        "def stem(tokens):\n",
        "    return [ps.stem(token) for token in tokens]\n",
        "\n",
        "def filter_stopwords(tokens):\n",
        "    \"\"\"\n",
        "    :param tokens: a list of tokens, type: list\n",
        "    return a list of filtered tokens, type: list\n",
        "    e.g.\n",
        "    Input: ['text', 'mine', 'is', 'to', 'identifi', 'use', 'inform', '.']\n",
        "    Output: ['text', 'mine', 'identifi', 'use', 'inform', '.']\n",
        "    \"\"\"\n",
        "    ### equivalent code\n",
        "    # results = list()\n",
        "    # for token in tokens:\n",
        "    #     if token not in stopwords and not token.isnumeric():\n",
        "    #         results.append(token)\n",
        "    # return results\n",
        "\n",
        "    return [token for token in tokens if token not in stopwords and not token.isnumeric()]"
      ]
    },
    {
      "cell_type": "markdown",
      "metadata": {
        "id": "46mmwVay5Vtq"
      },
      "source": [
        "### (2) Training and validating \n",
        "The following example shows you how to train your model using the train set, and evaluate on the validation set.  \n",
        "As an example, we only use the text data for training. Feel free to use other columns in your implementation.  \n",
        "\n",
        "The model performance on the validation set can be roughly regarded as your models final performance, so we can use it to search for optimal hyper-parameters."
      ]
    },
    {
      "cell_type": "code",
      "execution_count": null,
      "metadata": {
        "id": "UXKnToyUXG_e"
      },
      "outputs": [],
      "source": [
        "#--------------------------------------------------------------------------------------------------------------------"
      ]
    },
    {
      "cell_type": "code",
      "execution_count": null,
      "metadata": {
        "id": "sJznqPt65Vtq"
      },
      "outputs": [],
      "source": [
        "# Prepare the data.\n",
        "# As an example, we only use the text data. \n",
        "x_train = train_df['text']\n",
        "y_train = train_df['stars']\n",
        "#cool_train = train_df['cool']\n",
        "#funny_train = train_df['funny']\n",
        "#useful_train = train_df['useful']\n",
        "  \n",
        "x_valid = valid_df['text']\n",
        "y_valid = valid_df['stars']\n",
        "#cool_valid = valid_df['cool']\n",
        "#funny_valid = valid_df['funny']\n",
        "#useful_valid = valid_df['useful']\n",
        "\n",
        "x_test = test_df['text']\n",
        "#cool_test = test_df['cool']\n",
        "#funny_test = test_df['funny']\n",
        "#useful_test = test_df['useful']"
      ]
    },
    {
      "cell_type": "code",
      "execution_count": null,
      "metadata": {
        "id": "4vuxNlKKX4F2"
      },
      "outputs": [],
      "source": [
        "def get_feats_dict(feats, min_freq=-1, max_freq=-1, max_size=-1):\n",
        "    \"\"\"\n",
        "    :param data: a list of features, type: list(list)\n",
        "    :param min_freq: the lowest fequency that the fequency of a feature smaller than it will be filtered out\n",
        "    :param max_freq: the highest fequency that the fequency of a feature larger than it will be filtered out\n",
        "    :param max_size: the max size of feature dict\n",
        "    return a feature dict that maps features to indices, sorted by frequencies\n",
        "    # Counter document: https://docs.python.org/3.6/library/collections.html#collections.Counter\n",
        "    \"\"\"\n",
        "    # count all features\n",
        "    feat_cnt = Counter(feats) # [\"text\", \"text\", \"mine\"] --> {\"text\": 2, \"mine\": 1}\n",
        "    if max_size > 0 and min_freq == -1 and max_freq == -1:\n",
        "        valid_feats = [f for f, cnt in feat_cnt.most_common(max_size)]\n",
        "    else:\n",
        "        valid_feats = list()\n",
        "        for f, cnt in feat_cnt.most_common():\n",
        "            if (min_freq == -1 or cnt >= min_freq) and \\\n",
        "                (max_freq == -1 or cnt <= max_freq):\n",
        "                valid_feats.append(f)\n",
        "    if max_size > 0 and len(valid_feats) > max_size:\n",
        "        valid_feats = valid_feats[:max_size]        \n",
        "    print(\"Size of features:\", len(valid_feats))\n",
        "    \n",
        "    # build a mapping from features to indices\n",
        "    feats_dict = dict(zip(valid_feats, range(len(valid_feats))))\n",
        "    return feats_dict"
      ]
    },
    {
      "cell_type": "code",
      "execution_count": null,
      "metadata": {
        "id": "grHByI_MYp8l"
      },
      "outputs": [],
      "source": [
        "def get_onehot_vector(feats, feats_dict):\n",
        "    \"\"\"\n",
        "    :param data: a list of features, type: list\n",
        "    :param feats_dict: a dict from features to indices, type: dict\n",
        "    return a feature vector,\n",
        "    \"\"\"\n",
        "    # initialize the vector as all zeros\n",
        "    vector = np.zeros(len(feats_dict), dtype=float)\n",
        "    for f in feats:\n",
        "        # get the feature index, return -1 if the feature is not existed\n",
        "        f_idx = feats_dict.get(f, -1)\n",
        "        if f_idx != -1:\n",
        "            # set the corresponding element as 1\n",
        "            vector[f_idx] = 1\n",
        "    return vector"
      ]
    },
    {
      "cell_type": "code",
      "execution_count": null,
      "metadata": {
        "id": "_wyDCkWqXSTh"
      },
      "outputs": [],
      "source": [
        "def n_gram(tokens, n=1):\n",
        "    \"\"\"\n",
        "    :param tokens: a list of tokens, type: list\n",
        "    :param n: the corresponding n-gram, type: int\n",
        "    return a list of n-gram tokens, type: list\n",
        "    e.g.\n",
        "    Input: ['text', 'mine', 'is', 'to', 'identifi', 'use', 'inform', '.'], 2\n",
        "    Output: ['text mine', 'mine is', 'is to', 'to identifi', 'identifi use', 'use inform', 'inform .']\n",
        "    \"\"\"\n",
        "    if n == 1:\n",
        "        return tokens\n",
        "    else:\n",
        "        results = list()\n",
        "        for i in range(len(tokens)-n+1):\n",
        "            # tokens[i:i+n] will return a sublist from i th to i+n th (i+n th is not included)\n",
        "            results.append(\" \".join(tokens[i:i+n]))\n",
        "        return results"
      ]
    },
    {
      "cell_type": "code",
      "execution_count": null,
      "metadata": {
        "id": "DRdaqvGiW60a"
      },
      "outputs": [],
      "source": [
        "def build_classifier(input_size, output_size, learning_rate=0.1,\n",
        "                     l2_reg=0.0,\n",
        "                     loss=\"categorical_crossentropy\",\n",
        "                     optimizer=\"SGD\",\n",
        "                     metric=\"accuracy\"):\n",
        "    \"\"\"\n",
        "    :param input_size: the dimension of the input, type: int\n",
        "    :param output_size: the dimension of the prediction, type: int\n",
        "    :param learning_rate: the learning rate for the optimizer\n",
        "    :param l2_reg: the weight for the L2 regularizer\n",
        "    :param loss: the training loss\n",
        "    :param optimizer: the optimizer\n",
        "    :param metric: the metric\n",
        "    return a 1-layer perceptron,\n",
        "    # losses document: https://keras.io/losses/\n",
        "    # optimizers document: https://keras.io/optimizers/\n",
        "    # metrics document: https://keras.io/metrics/\n",
        "    \"\"\"\n",
        "    model = Sequential()\n",
        "    \n",
        "    # the projection layer\n",
        "    # o = w.T x + b\n",
        "    # w is kernel, b is bias\n",
        "    model.add(Dense(output_size,\n",
        "                    activation=\"softmax\",\n",
        "                    input_dim=input_size,\n",
        "                    kernel_initializer=K.initializers.he_normal(seed=0),\n",
        "                    bias_initializer=\"zeros\",\n",
        "                    kernel_regularizer=K.regularizers.l2(l2_reg)))\n",
        "    \n",
        "    # set the loss, the optimizer, and the metric\n",
        "    if optimizer == \"SGD\":\n",
        "        optimizer = K.optimizers.SGD(lr=learning_rate)\n",
        "    elif optimizer == \"RMSprop\":\n",
        "        optimizer = K.optimizers.RMSprop(learning_rate=learning_rate)\n",
        "    elif optimizer == \"Adam\":\n",
        "        optimizer = K.optimizers.Adam(learning_rate=learning_rate)\n",
        "    else:\n",
        "        raise NotImplementedError\n",
        "    model.compile(loss=loss, optimizer=optimizer, metrics=[metric])\n",
        "    \n",
        "    return model\n"
      ]
    },
    {
      "cell_type": "code",
      "execution_count": null,
      "metadata": {
        "id": "cq0rModeYOTH"
      },
      "outputs": [],
      "source": [
        "\n",
        "\n"
      ]
    },
    {
      "cell_type": "code",
      "execution_count": null,
      "metadata": {
        "id": "WqjoiVvW2Bpb",
        "colab": {
          "base_uri": "https://localhost:8080/"
        },
        "outputId": "77352640-d44d-4bd1-c25e-0dce76cc5a9c"
      },
      "outputs": [
        {
          "output_type": "stream",
          "name": "stdout",
          "text": [
            "18000\n"
          ]
        }
      ],
      "source": [
        "print(len(x_train))"
      ]
    },
    {
      "cell_type": "code",
      "execution_count": null,
      "metadata": {
        "colab": {
          "base_uri": "https://localhost:8080/"
        },
        "id": "vPtCiQEhaads",
        "outputId": "2b772b19-7387-47b5-dac9-4cbc0adcc0e4"
      },
      "outputs": [
        {
          "output_type": "stream",
          "name": "stderr",
          "text": [
            "[nltk_data] Downloading package punkt to /root/nltk_data...\n",
            "[nltk_data]   Package punkt is already up-to-date!\n"
          ]
        },
        {
          "output_type": "stream",
          "name": "stdout",
          "text": [
            "Size of features: 32076\n",
            "Size of features: 32072\n"
          ]
        }
      ],
      "source": [
        "nltk.download('punkt')\n",
        "\n",
        "train_tokens = [tokenize(text) for text in x_train]\n",
        "valid_tokens = [tokenize(text) for text in x_valid]\n",
        "\n",
        "train_stemmed = [stem(tokens) for tokens in train_tokens]\n",
        "valid_stemmed = [stem(tokens) for tokens in valid_tokens]\n",
        "\n",
        "#train_2_gram = [n_gram(tokens, 2) for tokens in train_stemmed]\n",
        "#valid_2_gram = [n_gram(tokens, 2) for tokens in valid_stemmed]\n",
        "\n",
        "train_stemmed = [filter_stopwords(tokens) for tokens in train_stemmed]    #final stemmed\n",
        "valid_stemmed = [filter_stopwords(tokens) for tokens in valid_stemmed]    #final stemmed\n",
        "\n",
        "# build the feature list\n",
        "train_feats = list()\n",
        "for i in range(len(x_train)):\n",
        "    # concatenate the stemmed token list and the 2_gram list together\n",
        "    train_feats.append(train_stemmed[i])\n",
        "valid_feats = list()\n",
        "for i in range(len(x_valid)):\n",
        "    # concatenate the stemmed token list and the 2_gram list together\n",
        "    valid_feats.append(valid_stemmed[i])\n",
        "\n",
        "\n",
        "# build the feature dict\n",
        "feats = set()\n",
        "# collect all features\n",
        "for f in train_feats:     # in train_feats -> train_stemmed\n",
        "    feats.update(f)\n",
        "\n",
        "print(\"Size of features:\", len(feats))\n",
        "# build a mapping from features to indices\n",
        "feats_dict = get_feats_dict(chain.from_iterable(train_stemmed),min_freq=1, max_freq=20000)   #original min = 5 ->min_freq=100, max_freq=20000\n",
        "\n",
        "# build the feats_matrix\n",
        "# convert each example to a ont-hot vector, and then stack vectors as a matrix\n",
        "train_feats_matrix = np.vstack([get_onehot_vector( f, feats_dict) for f in train_feats]) # train_feats -> train_stemmed\n",
        "valid_feats_matrix = np.vstack([get_onehot_vector( f, feats_dict) for f in valid_feats])  # valid_feats -> valid_stemmed\n",
        "\n",
        "\n",
        "\n",
        "# convert labels to label_matrix\n",
        "num_classes = max(y_train)\n",
        "# convert each label to a ont-hot vector, and then stack vectors as a matrix\n",
        "train_label_matrix = tf.keras.utils.to_categorical(y_train-1, num_classes=num_classes)\n",
        "valid_label_matrix = tf.keras.utils.to_categorical(y_valid-1, num_classes=num_classes)\n",
        "\n"
      ]
    },
    {
      "cell_type": "code",
      "execution_count": null,
      "metadata": {
        "id": "gCrjE0KkO3rv"
      },
      "outputs": [],
      "source": [
        "test_token = [tokenize(text) for text in x_test]\n",
        "test_stemmed = [stem(tokens) for tokens in test_token]\n",
        "test_stemmed = [filter_stopwords(tokens) for tokens in test_stemmed]\n",
        "test_feats_matrix = np.vstack([get_onehot_vector( f, feats_dict) for f in test_stemmed])"
      ]
    },
    {
      "cell_type": "code",
      "execution_count": null,
      "metadata": {
        "colab": {
          "base_uri": "https://localhost:8080/",
          "height": 184
        },
        "id": "yjIv8egumFdz",
        "outputId": "065a8a0f-da8c-47a4-8be0-b55bf38314f6"
      },
      "outputs": [
        {
          "output_type": "error",
          "ename": "NameError",
          "evalue": "ignored",
          "traceback": [
            "\u001b[0;31m---------------------------------------------------------------------------\u001b[0m",
            "\u001b[0;31mNameError\u001b[0m                                 Traceback (most recent call last)",
            "\u001b[0;32m<ipython-input-10-76157f436662>\u001b[0m in \u001b[0;36m<cell line: 2>\u001b[0;34m()\u001b[0m\n\u001b[1;32m      1\u001b[0m \u001b[0;31m# build the classifier  Fit the data\u001b[0m\u001b[0;34m\u001b[0m\u001b[0;34m\u001b[0m\u001b[0m\n\u001b[0;32m----> 2\u001b[0;31m \u001b[0mmodel\u001b[0m \u001b[0;34m=\u001b[0m \u001b[0mbuild_classifier\u001b[0m\u001b[0;34m(\u001b[0m\u001b[0mlen\u001b[0m\u001b[0;34m(\u001b[0m\u001b[0mfeats_dict\u001b[0m\u001b[0;34m)\u001b[0m\u001b[0;34m,\u001b[0m \u001b[0mnum_classes\u001b[0m\u001b[0;34m,\u001b[0m \u001b[0mlearning_rate\u001b[0m\u001b[0;34m=\u001b[0m\u001b[0;36m0.1\u001b[0m\u001b[0;34m)\u001b[0m\u001b[0;34m\u001b[0m\u001b[0;34m\u001b[0m\u001b[0m\n\u001b[0m",
            "\u001b[0;31mNameError\u001b[0m: name 'build_classifier' is not defined"
          ]
        }
      ],
      "source": [
        "# build the classifier  Fit the data \n",
        "model = build_classifier(len(feats_dict), num_classes, learning_rate=0.1)"
      ]
    },
    {
      "cell_type": "code",
      "execution_count": null,
      "metadata": {
        "colab": {
          "base_uri": "https://localhost:8080/"
        },
        "id": "FTZYtG0BgFK8",
        "outputId": "6cee9f1f-e9cd-4cff-838c-2b19866f9b9c"
      },
      "outputs": [
        {
          "data": {
            "text/plain": [
              "[('.', 120000),\n",
              " (',', 67758),\n",
              " ('wa', 37148),\n",
              " ('!', 25718),\n",
              " ('thi', 16394),\n",
              " (\"n't\", 13361),\n",
              " (\"'s\", 11397),\n",
              " ('place', 9842),\n",
              " ('food', 9256),\n",
              " ('good', 9034)]"
            ]
          },
          "execution_count": 14,
          "metadata": {},
          "output_type": "execute_result"
        }
      ],
      "source": [
        "'''from collections import Counter\n",
        "feat_cnt = Counter()\n",
        "for feat in train_stemmed:\n",
        "    feat_cnt.update(feat)\n",
        "feat_cnt.most_common(10)'''"
      ]
    },
    {
      "cell_type": "code",
      "execution_count": null,
      "metadata": {
        "id": "HvofWA2_3Jwl"
      },
      "outputs": [],
      "source": [
        "#print(feats)"
      ]
    },
    {
      "cell_type": "code",
      "execution_count": null,
      "metadata": {
        "id": "1DN_6O6vZIWn",
        "colab": {
          "base_uri": "https://localhost:8080/"
        },
        "outputId": "6c0f4f41-bbbe-457b-acc1-33e773a0b073"
      },
      "outputs": [
        {
          "output_type": "stream",
          "name": "stdout",
          "text": [
            "Epoch 1/20\n",
            "180/180 [==============================] - 5s 27ms/step - loss: 1.4700 - accuracy: 0.4331 - val_loss: 1.3914 - val_accuracy: 0.4475\n",
            "Epoch 2/20\n",
            "180/180 [==============================] - 3s 19ms/step - loss: 1.3443 - accuracy: 0.4584 - val_loss: 1.3057 - val_accuracy: 0.4825\n",
            "Epoch 3/20\n",
            "180/180 [==============================] - 3s 19ms/step - loss: 1.2715 - accuracy: 0.4941 - val_loss: 1.2463 - val_accuracy: 0.5205\n",
            "Epoch 4/20\n",
            "180/180 [==============================] - 4s 23ms/step - loss: 1.2193 - accuracy: 0.5184 - val_loss: 1.2025 - val_accuracy: 0.5305\n",
            "Epoch 5/20\n",
            "180/180 [==============================] - 4s 20ms/step - loss: 1.1796 - accuracy: 0.5312 - val_loss: 1.1690 - val_accuracy: 0.5455\n",
            "Epoch 6/20\n",
            "180/180 [==============================] - 3s 18ms/step - loss: 1.1481 - accuracy: 0.5450 - val_loss: 1.1419 - val_accuracy: 0.5555\n",
            "Epoch 7/20\n",
            "180/180 [==============================] - 3s 19ms/step - loss: 1.1225 - accuracy: 0.5533 - val_loss: 1.1200 - val_accuracy: 0.5645\n",
            "Epoch 8/20\n",
            "180/180 [==============================] - 4s 24ms/step - loss: 1.1009 - accuracy: 0.5627 - val_loss: 1.1013 - val_accuracy: 0.5695\n",
            "Epoch 9/20\n",
            "180/180 [==============================] - 3s 19ms/step - loss: 1.0825 - accuracy: 0.5673 - val_loss: 1.0858 - val_accuracy: 0.5710\n",
            "Epoch 10/20\n",
            "180/180 [==============================] - 3s 19ms/step - loss: 1.0665 - accuracy: 0.5756 - val_loss: 1.0720 - val_accuracy: 0.5795\n",
            "Epoch 11/20\n",
            "180/180 [==============================] - 4s 22ms/step - loss: 1.0522 - accuracy: 0.5824 - val_loss: 1.0599 - val_accuracy: 0.5805\n",
            "Epoch 12/20\n",
            "180/180 [==============================] - 4s 22ms/step - loss: 1.0396 - accuracy: 0.5864 - val_loss: 1.0495 - val_accuracy: 0.5845\n",
            "Epoch 13/20\n",
            "180/180 [==============================] - 4s 23ms/step - loss: 1.0282 - accuracy: 0.5926 - val_loss: 1.0398 - val_accuracy: 0.5865\n",
            "Epoch 14/20\n",
            "180/180 [==============================] - 4s 21ms/step - loss: 1.0178 - accuracy: 0.5957 - val_loss: 1.0313 - val_accuracy: 0.5920\n",
            "Epoch 15/20\n",
            "180/180 [==============================] - 4s 20ms/step - loss: 1.0083 - accuracy: 0.6003 - val_loss: 1.0235 - val_accuracy: 0.5965\n",
            "Epoch 16/20\n",
            "180/180 [==============================] - 3s 19ms/step - loss: 0.9994 - accuracy: 0.6030 - val_loss: 1.0164 - val_accuracy: 0.6040\n",
            "Epoch 17/20\n",
            "180/180 [==============================] - 3s 18ms/step - loss: 0.9913 - accuracy: 0.6076 - val_loss: 1.0098 - val_accuracy: 0.6050\n",
            "Epoch 18/20\n",
            "180/180 [==============================] - 4s 22ms/step - loss: 0.9838 - accuracy: 0.6112 - val_loss: 1.0039 - val_accuracy: 0.6075\n",
            "Epoch 19/20\n",
            "180/180 [==============================] - 3s 18ms/step - loss: 0.9766 - accuracy: 0.6152 - val_loss: 0.9984 - val_accuracy: 0.6115\n",
            "Epoch 20/20\n",
            "180/180 [==============================] - 3s 18ms/step - loss: 0.9700 - accuracy: 0.6186 - val_loss: 0.9929 - val_accuracy: 0.6125\n"
          ]
        }
      ],
      "source": [
        "history = model.fit(train_feats_matrix, train_label_matrix, validation_data=(valid_feats_matrix, valid_label_matrix), epochs=20, batch_size=100) "
      ]
    },
    {
      "cell_type": "code",
      "execution_count": null,
      "metadata": {
        "colab": {
          "base_uri": "https://localhost:8080/",
          "height": 844
        },
        "id": "pFE6c-lnkFmr",
        "outputId": "61e12fcf-e725-4993-a643-1ecbc87bc8a2"
      },
      "outputs": [
        {
          "output_type": "display_data",
          "data": {
            "text/plain": [
              "<Figure size 640x480 with 1 Axes>"
            ],
            "image/png": "[encoded data removed]"
          },
          "metadata": {}
        },
        {
          "output_type": "display_data",
          "data": {
            "text/plain": [
              "<Figure size 640x480 with 1 Axes>"
            ],
            "image/png": "[encoded data removed]"
          },
          "metadata": {}
        }
      ],
      "source": [
        "plt.figure()\n",
        "plt.plot(history.history[\"loss\"], label=\"train\")\n",
        "plt.plot(history.history[\"val_loss\"], label='valid')\n",
        "plt.legend()\n",
        "plt.show()\n",
        "\n",
        "plt.figure()\n",
        "plt.plot(history.history[\"accuracy\"], label=\"train\")\n",
        "plt.plot(history.history[\"val_accuracy\"], label='valid')\n",
        "plt.legend()\n",
        "plt.show()"
      ]
    },
    {
      "cell_type": "code",
      "execution_count": null,
      "metadata": {
        "colab": {
          "base_uri": "https://localhost:8080/"
        },
        "id": "UigcJ7WN5Tnb",
        "outputId": "5a42ca93-23c4-40a8-83da-bda164b59e53"
      },
      "outputs": [
        {
          "output_type": "stream",
          "name": "stdout",
          "text": [
            "63/63 [==============================] - 0s 3ms/step - loss: 0.9931 - accuracy: 0.6125\n"
          ]
        },
        {
          "output_type": "execute_result",
          "data": {
            "text/plain": [
              "[0.9930862784385681, 0.612500011920929]"
            ]
          },
          "metadata": {},
          "execution_count": 18
        }
      ],
      "source": [
        "model.evaluate(valid_feats_matrix, valid_label_matrix)"
      ]
    },
    {
      "cell_type": "code",
      "execution_count": null,
      "metadata": {
        "colab": {
          "base_uri": "https://localhost:8080/"
        },
        "id": "5dZ1XmLG6ZeZ",
        "outputId": "0490465a-47c5-43de-855a-42ac07cc01a1"
      },
      "outputs": [
        {
          "output_type": "stream",
          "name": "stdout",
          "text": [
            "63/63 [==============================] - 0s 3ms/step\n"
          ]
        }
      ],
      "source": [
        "valid_pred = np.argmax(model.predict(valid_feats_matrix), axis=-1)"
      ]
    },
    {
      "cell_type": "code",
      "execution_count": null,
      "metadata": {
        "id": "yU8YfTlYfuAE"
      },
      "outputs": [],
      "source": [
        "valid_pred += 1"
      ]
    },
    {
      "cell_type": "code",
      "execution_count": null,
      "metadata": {
        "colab": {
          "base_uri": "https://localhost:8080/"
        },
        "id": "A211I9WN6Om6",
        "outputId": "687aa862-b625-40a0-ae6a-cf3d2e936969"
      },
      "outputs": [
        {
          "output_type": "stream",
          "name": "stdout",
          "text": [
            "              precision    recall  f1-score   support\n",
            "\n",
            "           1       0.68      0.75      0.71       292\n",
            "           2       0.57      0.07      0.13       163\n",
            "           3       0.43      0.10      0.17       232\n",
            "           4       0.44      0.38      0.41       421\n",
            "           5       0.65      0.91      0.76       892\n",
            "\n",
            "    accuracy                           0.61      2000\n",
            "   macro avg       0.56      0.44      0.44      2000\n",
            "weighted avg       0.58      0.61      0.56      2000\n",
            "\n",
            "\n",
            "\n",
            "\n",
            "[[219   4   7   8  54]\n",
            " [ 57  12   9  36  49]\n",
            " [ 25   2  24  94  87]\n",
            " [ 11   1  11 162 236]\n",
            " [ 11   2   5  66 808]]\n",
            "accuracy 0.6125\n"
          ]
        }
      ],
      "source": [
        "from sklearn.metrics import confusion_matrix, classification_report, accuracy_score\n",
        "print(classification_report(y_valid, valid_pred))\n",
        "print(\"\\n\\n\")\n",
        "print(confusion_matrix(y_valid, valid_pred))\n",
        "print('accuracy', np.mean(y_valid == valid_pred))"
      ]
    },
    {
      "cell_type": "code",
      "execution_count": null,
      "metadata": {
        "colab": {
          "base_uri": "https://localhost:8080/"
        },
        "id": "2e81F-QVAMgs",
        "outputId": "1385db23-6ce6-4d62-f150-70903bce8a85"
      },
      "outputs": [
        {
          "output_type": "stream",
          "name": "stderr",
          "text": [
            "WARNING:absl:`lr` is deprecated in Keras optimizer, please use `learning_rate` or use the legacy optimizer, e.g.,tf.keras.optimizers.legacy.SGD.\n"
          ]
        }
      ],
      "source": [
        "model2 = build_classifier(len(feats_dict), num_classes, learning_rate=0.1, l2_reg=0.01)\n",
        "history2 = model2.fit(train_feats_matrix, train_label_matrix, validation_data=(valid_feats_matrix, valid_label_matrix), epochs=20, batch_size=100)\n",
        "plt.figure()\n",
        "plt.plot(history2.history[\"loss\"], label=\"train\")\n",
        "plt.plot(history2.history[\"val_loss\"], label='valid')\n",
        "plt.legend()\n",
        "plt.show()\n",
        "\n",
        "plt.figure()\n",
        "plt.plot(history2.history[\"accuracy\"], label=\"train\")\n",
        "plt.plot(history2.history[\"val_accuracy\"], label='valid')\n",
        "plt.legend()\n",
        "plt.show()"
      ]
    },
    {
      "cell_type": "code",
      "execution_count": null,
      "metadata": {
        "colab": {
          "base_uri": "https://localhost:8080/"
        },
        "id": "82Ly5JgQBQr7",
        "outputId": "b89f231b-98bb-44d4-b614-13868f91bd5e"
      },
      "outputs": [
        {
          "name": "stdout",
          "output_type": "stream",
          "text": [
            "63/63 [==============================] - 0s 2ms/step\n",
            "              precision    recall  f1-score   support\n",
            "\n",
            "           1       0.67      0.67      0.67       292\n",
            "           2       0.50      0.02      0.05       163\n",
            "           3       0.41      0.06      0.11       232\n",
            "           4       0.42      0.33      0.37       421\n",
            "           5       0.62      0.92      0.74       892\n",
            "\n",
            "    accuracy                           0.59      2000\n",
            "   macro avg       0.52      0.40      0.39      2000\n",
            "weighted avg       0.55      0.59      0.52      2000\n",
            "\n",
            "\n",
            "\n",
            "\n",
            "[[196   2   5   8  81]\n",
            " [ 58   4   6  36  59]\n",
            " [ 21   0  14  93 104]\n",
            " [  9   0   6 140 266]\n",
            " [  8   2   3  58 821]]\n",
            "accuracy 0.5875\n"
          ]
        }
      ],
      "source": [
        "valid_pred2 = np.argmax(model2.predict(valid_feats_matrix), axis=-1)\n",
        "valid_pred2 += 1\n",
        "print(classification_report(y_valid, valid_pred2))\n",
        "print(\"\\n\\n\")\n",
        "print(confusion_matrix(y_valid, valid_pred2))\n",
        "print('accuracy', np.mean(y_valid == valid_pred2))"
      ]
    },
    {
      "cell_type": "code",
      "execution_count": null,
      "metadata": {
        "colab": {
          "base_uri": "https://localhost:8080/"
        },
        "id": "B2NuXpADOYhR",
        "outputId": "da28583c-2e0c-4569-883c-b9af0f4ab826"
      },
      "outputs": [
        {
          "output_type": "stream",
          "name": "stdout",
          "text": [
            "Looking in indexes: https://pypi.org/simple, https://us-python.pkg.dev/colab-wheels/public/simple/\n",
            "Requirement already satisfied: keras-layer-normalization in /usr/local/lib/python3.9/dist-packages (0.16.0)\n",
            "Requirement already satisfied: numpy in /usr/local/lib/python3.9/dist-packages (from keras-layer-normalization) (1.22.4)\n"
          ]
        }
      ],
      "source": [
        "!pip install keras-layer-normalization"
      ]
    },
    {
      "cell_type": "code",
      "execution_count": null,
      "metadata": {
        "id": "-KLQ19yNDXYK"
      },
      "outputs": [],
      "source": [
        "import keras\n",
        "from keras.layers import Dense, Activation, Dropout, BatchNormalization, Activation, Input, Add, Concatenate\n",
        "from keras_layer_normalization import LayerNormalization\n",
        "\n",
        "def build_MLP(input_size, output_size, num_layers, hidden_size,\n",
        "              activation=\"relu\",\n",
        "              dropout_rate=0.0,\n",
        "              batch_norm=False,\n",
        "              layer_norm=False,\n",
        "              l2_reg=0.0,     #L2 = 0.0\n",
        "              loss=\"categorical_crossentropy\",\n",
        "              optimizer=\"SGD\",\n",
        "              learning_rate=0.1,\n",
        "              metric=\"accuracy\"):\n",
        "    \"\"\"\n",
        "    :param input_size: the dimension of the input, type: int\n",
        "    :param output_size: the dimension of the prediction, type: int\n",
        "    :param num_layers: the number of layers, type: int\n",
        "    :param hidden_size: the dimension of the hidden states, type: int\n",
        "    :param activation: the activation type, type: str\n",
        "    :param dropout_rate: the probability of dropout, type: float\n",
        "    :param batch_norm: whether to enable batch normalization, type: bool\n",
        "    :param layer_norm: whether to enable layer normalization, type: bool\n",
        "    :param l2_reg: the weight for the L2 regularizer, type: str\n",
        "    :param loss: the training loss, type: str\n",
        "    :param optimizer: the optimizer, type: str\n",
        "    :param learning_rate: the learning rate for the optimizer, type: float\n",
        "    :param metric: the metric, type: str\n",
        "    return a multi-layer perceptron,\n",
        "    # activation\n",
        "    # dropout document: https://keras.io/layers/core/#dropout\n",
        "    # batch normalization document: https://keras.io/layers/normalization/\n",
        "    # layer normalization: https://github.com/CyberZHG/keras-layer-normalization\n",
        "    # losses document: https://keras.io/losses/\n",
        "    # optimizers document: https://keras.io/optimizers/\n",
        "    # metrics document: https://keras.io/metrics/\n",
        "    \"\"\"\n",
        "    model = Sequential()\n",
        "    \n",
        "    if num_layers == 1:\n",
        "        model.add(Dense(output_size,\n",
        "                        activation=\"softmax\",\n",
        "                        input_dim=input_size,\n",
        "                        kernel_initializer=keras.initializers.he_normal(seed=0),\n",
        "                        bias_initializer=\"zeros\",\n",
        "                        kernel_regularizer=keras.regularizers.l2(l2_reg)))\n",
        "    else:\n",
        "        for i in range(num_layers-1):\n",
        "            \n",
        "            if i == 0:\n",
        "                # first layer: input -> hidden\n",
        "                model.add(Dense(hidden_size,\n",
        "                        input_dim=input_size,\n",
        "                        kernel_initializer=keras.initializers.he_normal(seed=0),\n",
        "                        bias_initializer=\"zeros\",\n",
        "                        kernel_regularizer=keras.regularizers.l2(l2_reg)))\n",
        "            else:\n",
        "                # hidden layers: hidden -> hidden\n",
        "                model.add(Dense(hidden_size,\n",
        "                        input_dim=hidden_size,\n",
        "                        kernel_initializer=keras.initializers.he_normal(seed=0),\n",
        "                        bias_initializer=\"zeros\",\n",
        "                        kernel_regularizer=keras.regularizers.l2(l2_reg)))\n",
        "            # add layer_norm\n",
        "            if layer_norm:\n",
        "                model.add(LayerNormalization())\n",
        "            # add batch_norm\n",
        "            if batch_norm:\n",
        "                model.add(BatchNormalization())\n",
        "            # add activation\n",
        "            model.add(Activation(activation))\n",
        "            # add dropout here (set seed as 0 in order to reproduce)\n",
        "            if dropout_rate > 0.0:\n",
        "                model.add(dropout_rate, seed = 0)\n",
        "\n",
        "        \n",
        "        # last layer: hidden -> class\n",
        "        model.add(Dense(output_size,\n",
        "                        activation = 'softmax',\n",
        "                        input_dim=hidden_size,\n",
        "                        kernel_initializer=keras.initializers.he_normal(seed=0),\n",
        "                        bias_initializer=\"zeros\"))\n",
        "    \n",
        "    # set the loss, the optimizer, and the metric\n",
        "    if optimizer == \"SGD\":\n",
        "        optimizer = keras.optimizers.SGD(lr=learning_rate)\n",
        "    elif optimizer == \"RMSprop\":\n",
        "        optmizer = keras.optimizers.RMSprop(learning_rate=learning_rate)\n",
        "    elif optimizer == \"Adam\":\n",
        "        optmizer = keras.optimizers.Adam(learning_rate=learning_rate)\n",
        "    else:\n",
        "        raise NotImplementedError\n",
        "    model.compile(loss=loss, optimizer=optimizer, metrics=[metric])\n",
        "    \n",
        "    return model\n"
      ]
    },
    {
      "cell_type": "code",
      "execution_count": null,
      "metadata": {
        "id": "as4Paf5gOJJD"
      },
      "outputs": [],
      "source": [
        "model_MLP = build_MLP(input_size=len(feats_dict), output_size=num_classes,\n",
        "              num_layers=3, hidden_size=400, activation=\"relu\",\n",
        "              l2_reg=0.005, learning_rate=0.1)"
      ]
    },
    {
      "cell_type": "code",
      "execution_count": null,
      "metadata": {
        "colab": {
          "base_uri": "https://localhost:8080/"
        },
        "id": "VUiOOtyhQWe7",
        "outputId": "52659543-a272-4576-b036-0a9768a6605f"
      },
      "outputs": [
        {
          "output_type": "stream",
          "name": "stdout",
          "text": [
            "Epoch 1/5\n",
            "180/180 [==============================] - 46s 248ms/step - loss: 7.8336 - accuracy: 0.5594 - val_loss: 6.5194 - val_accuracy: 0.6385\n",
            "Epoch 2/5\n",
            "180/180 [==============================] - 33s 180ms/step - loss: 5.5978 - accuracy: 0.6523 - val_loss: 4.8103 - val_accuracy: 0.6400\n",
            "Epoch 3/5\n",
            "180/180 [==============================] - 32s 180ms/step - loss: 4.1294 - accuracy: 0.6841 - val_loss: 3.6430 - val_accuracy: 0.6450\n",
            "Epoch 4/5\n",
            "180/180 [==============================] - 33s 184ms/step - loss: 3.1224 - accuracy: 0.6988 - val_loss: 2.8480 - val_accuracy: 0.6440\n",
            "Epoch 5/5\n",
            "180/180 [==============================] - 34s 187ms/step - loss: 2.4214 - accuracy: 0.7111 - val_loss: 2.2803 - val_accuracy: 0.6405\n"
          ]
        }
      ],
      "source": [
        "his3 = model_MLP.fit(train_feats_matrix, train_label_matrix, validation_data=(valid_feats_matrix, valid_label_matrix), epochs=5, batch_size=100)"
      ]
    },
    {
      "cell_type": "code",
      "execution_count": null,
      "metadata": {
        "colab": {
          "base_uri": "https://localhost:8080/"
        },
        "id": "Wovg6BznSuHP",
        "outputId": "a82e5f2e-a962-4bf7-8337-7c32a1ac145f"
      },
      "outputs": [
        {
          "output_type": "stream",
          "name": "stdout",
          "text": [
            "63/63 [==============================] - 3s 39ms/step\n",
            "              precision    recall  f1-score   support\n",
            "\n",
            "           1       0.72      0.79      0.75       292\n",
            "           2       0.47      0.26      0.34       163\n",
            "           3       0.41      0.34      0.37       232\n",
            "           4       0.45      0.52      0.48       421\n",
            "           5       0.79      0.79      0.79       892\n",
            "\n",
            "    accuracy                           0.64      2000\n",
            "   macro avg       0.56      0.54      0.55      2000\n",
            "weighted avg       0.63      0.64      0.63      2000\n",
            "\n",
            "\n",
            "\n",
            "\n",
            "[[231  24   8  11  18]\n",
            " [ 49  43  46  18   7]\n",
            " [ 20  17  79  88  28]\n",
            " [  7   7  47 219 141]\n",
            " [ 16   1  14 152 709]]\n",
            "accuracy 0.6405\n"
          ]
        }
      ],
      "source": [
        "from sklearn.metrics import confusion_matrix, classification_report, accuracy_score\n",
        "valid_pred3 = np.argmax(model_MLP.predict(valid_feats_matrix), axis=-1)\n",
        "valid_pred3 += 1\n",
        "print(classification_report(y_valid, valid_pred3))\n",
        "print(\"\\n\\n\")\n",
        "print(confusion_matrix(y_valid, valid_pred3))\n",
        "print('accuracy', np.mean(y_valid == valid_pred3))"
      ]
    },
    {
      "cell_type": "code",
      "execution_count": null,
      "metadata": {
        "colab": {
          "base_uri": "https://localhost:8080/",
          "height": 843
        },
        "id": "IQqwXjgfTn-f",
        "outputId": "2490631a-c997-4506-8b68-b1956b7c6815"
      },
      "outputs": [
        {
          "output_type": "display_data",
          "data": {
            "text/plain": [
              "<Figure size 640x480 with 1 Axes>"
            ],
            "image/png": "[encoded data removed]"
          },
          "metadata": {}
        },
        {
          "output_type": "display_data",
          "data": {
            "text/plain": [
              "<Figure size 640x480 with 1 Axes>"
            ],
            "image/png": "[encoded data removed]"
          },
          "metadata": {}
        }
      ],
      "source": [
        "plt.figure()\n",
        "plt.plot(his3.history[\"loss\"], label=\"train\")\n",
        "plt.plot(his3.history[\"val_loss\"], label='valid')\n",
        "plt.legend()\n",
        "plt.show()\n",
        "\n",
        "plt.figure()\n",
        "plt.plot(his3.history[\"accuracy\"], label=\"train\")\n",
        "plt.plot(his3.history[\"val_accuracy\"], label='valid')\n",
        "plt.legend()\n",
        "plt.show()"
      ]
    },
    {
      "cell_type": "code",
      "source": [
        "pred = np.argmax(model_MLP.predict(test_feats_matrix), axis=-1)\n",
        "pred += 1"
      ],
      "metadata": {
        "colab": {
          "base_uri": "https://localhost:8080/"
        },
        "id": "pj_Sn3BgtSpT",
        "outputId": "7f49f8c8-5635-4b98-b772-92b12a53ee7a"
      },
      "execution_count": null,
      "outputs": [
        {
          "output_type": "stream",
          "name": "stdout",
          "text": [
            "125/125 [==============================] - 3s 24ms/step\n"
          ]
        }
      ]
    },
    {
      "cell_type": "markdown",
      "metadata": {
        "id": "fXza8B1B5Vtr"
      },
      "source": [
        " You can use the valid data to choose the hyperparameters.\n",
        "As an example, you can decide which value of C (1 or 100) is better by evaluating on the valid data."
      ]
    },
    {
      "cell_type": "code",
      "source": [
        "pred"
      ],
      "metadata": {
        "colab": {
          "base_uri": "https://localhost:8080/"
        },
        "id": "vVMjfYn-tn5a",
        "outputId": "d3426483-91cc-4b25-e22d-6f6b13b4411a"
      },
      "execution_count": null,
      "outputs": [
        {
          "output_type": "execute_result",
          "data": {
            "text/plain": [
              "array([3, 5, 5, ..., 1, 1, 1])"
            ]
          },
          "metadata": {},
          "execution_count": 18
        }
      ]
    },
    {
      "cell_type": "code",
      "source": [
        "pred_df = pd.DataFrame({'stars': pred, 'review_id': test_df['review_id']})\n",
        "pred_df.to_csv('pred.csv', index=False)"
      ],
      "metadata": {
        "id": "_TQDZbl3tu-d"
      },
      "execution_count": null,
      "outputs": []
    },
    {
      "cell_type": "code",
      "execution_count": null,
      "metadata": {
        "colab": {
          "base_uri": "https://localhost:8080/",
          "height": 236
        },
        "id": "lCpqVf9E5Vtr",
        "outputId": "f484af6c-0bf3-4b25-c9a2-cb902c803669"
      },
      "outputs": [
        {
          "ename": "NameError",
          "evalue": "ignored",
          "output_type": "error",
          "traceback": [
            "\u001b[0;31m---------------------------------------------------------------------------\u001b[0m",
            "\u001b[0;31mNameError\u001b[0m                                 Traceback (most recent call last)",
            "\u001b[0;32m<ipython-input-30-2872d59ec1cf>\u001b[0m in \u001b[0;36m<cell line: 2>\u001b[0;34m()\u001b[0m\n\u001b[1;32m      1\u001b[0m \u001b[0;31m# build the first linear model with TFIDF feature\u001b[0m\u001b[0;34m\u001b[0m\u001b[0;34m\u001b[0m\u001b[0m\n\u001b[0;32m----> 2\u001b[0;31m \u001b[0mtfidf\u001b[0m \u001b[0;34m=\u001b[0m \u001b[0mTfidfVectorizer\u001b[0m\u001b[0;34m(\u001b[0m\u001b[0;34m)\u001b[0m\u001b[0;34m\u001b[0m\u001b[0;34m\u001b[0m\u001b[0m\n\u001b[0m\u001b[1;32m      3\u001b[0m \u001b[0mlr1\u001b[0m \u001b[0;34m=\u001b[0m \u001b[0mLogisticRegression\u001b[0m\u001b[0;34m(\u001b[0m\u001b[0mC\u001b[0m\u001b[0;34m=\u001b[0m\u001b[0;36m100\u001b[0m\u001b[0;34m)\u001b[0m\u001b[0;34m\u001b[0m\u001b[0;34m\u001b[0m\u001b[0m\n\u001b[1;32m      4\u001b[0m \u001b[0msteps\u001b[0m \u001b[0;34m=\u001b[0m \u001b[0;34m[\u001b[0m\u001b[0;34m(\u001b[0m\u001b[0;34m'tfidf'\u001b[0m\u001b[0;34m,\u001b[0m \u001b[0mtfidf\u001b[0m\u001b[0;34m)\u001b[0m\u001b[0;34m,\u001b[0m\u001b[0;34m(\u001b[0m\u001b[0;34m'lr'\u001b[0m\u001b[0;34m,\u001b[0m \u001b[0mlr1\u001b[0m\u001b[0;34m)\u001b[0m\u001b[0;34m]\u001b[0m\u001b[0;34m\u001b[0m\u001b[0;34m\u001b[0m\u001b[0m\n\u001b[1;32m      5\u001b[0m \u001b[0mpipe1\u001b[0m \u001b[0;34m=\u001b[0m \u001b[0mPipeline\u001b[0m\u001b[0;34m(\u001b[0m\u001b[0msteps\u001b[0m\u001b[0;34m)\u001b[0m\u001b[0;34m\u001b[0m\u001b[0;34m\u001b[0m\u001b[0m\n",
            "\u001b[0;31mNameError\u001b[0m: name 'TfidfVectorizer' is not defined"
          ]
        }
      ],
      "source": [
        "# build the first linear model with TFIDF feature\n",
        "'''tfidf = TfidfVectorizer()\n",
        "lr1 = LogisticRegression(C=100)\n",
        "steps = [('tfidf', tfidf),('lr', lr1)]\n",
        "pipe1 = Pipeline(steps)'''"
      ]
    },
    {
      "cell_type": "code",
      "execution_count": null,
      "metadata": {
        "id": "-3f_dYKX5Vtr"
      },
      "outputs": [],
      "source": [
        "# train the first model\n",
        "'''pipe1.fit(x_train, y_train)'''"
      ]
    },
    {
      "cell_type": "code",
      "execution_count": null,
      "metadata": {
        "id": "uLfCUsS75Vts"
      },
      "outputs": [],
      "source": [
        "# validate on the validation set\n",
        "'''y_pred = pipe1.predict(x_valid)\n",
        "print(classification_report(y_valid, y_pred))\n",
        "print(\"\\n\\n\")\n",
        "print(confusion_matrix(y_valid, y_pred))\n",
        "print('accuracy', np.mean(y_valid == y_pred))'''"
      ]
    },
    {
      "cell_type": "code",
      "execution_count": null,
      "metadata": {
        "id": "FDZCeni05Vts"
      },
      "outputs": [],
      "source": [
        "# build the second linear model with TFIDF feature\n",
        "'''tfidf = TfidfVectorizer()\n",
        "lr2 = LogisticRegression(C=1)\n",
        "steps = [('tfidf', tfidf),('lr', lr2)]\n",
        "pipe2 = Pipeline(steps)'''"
      ]
    },
    {
      "cell_type": "code",
      "execution_count": null,
      "metadata": {
        "id": "CAMxir2t5Vts"
      },
      "outputs": [],
      "source": [
        "# train the second model\n",
        "'''pipe2.fit(x_train, y_train)'''"
      ]
    },
    {
      "cell_type": "code",
      "execution_count": null,
      "metadata": {
        "id": "8S68CnyP5Vtt",
        "scrolled": false
      },
      "outputs": [],
      "source": [
        "# validate on the validation set\n",
        "'''y_pred = pipe2.predict(x_valid)\n",
        "print(classification_report(y_valid, y_pred))\n",
        "print(\"\\n\\n\")\n",
        "print(confusion_matrix(y_valid, y_pred))\n",
        "print('accuracy', np.mean(y_valid == y_pred))'''"
      ]
    },
    {
      "cell_type": "markdown",
      "metadata": {
        "id": "NP3Xo13t5Vtt"
      },
      "source": [
        " We find the second model (pipe2) has higher accuracy, then we use the second model to make predictions on test data. In practice, you may not only focus on the accuracy, but also other metrics (precision, recall, f1), since the label distribution is not always balanced."
      ]
    },
    {
      "cell_type": "markdown",
      "metadata": {
        "id": "lAcjqi2h5Vtt"
      },
      "source": [
        "### (3) Generate predictions on the test set"
      ]
    },
    {
      "cell_type": "code",
      "execution_count": null,
      "metadata": {
        "id": "VaQTnAOg5Vtu"
      },
      "outputs": [],
      "source": [
        "'''predict_test = pipe2.predict(x_test)'''"
      ]
    },
    {
      "cell_type": "code",
      "execution_count": null,
      "metadata": {
        "id": "wCFjyOS45Vtu"
      },
      "outputs": [],
      "source": [
        "'''predict_test'''"
      ]
    },
    {
      "cell_type": "code",
      "execution_count": null,
      "metadata": {
        "id": "pICWs3Eg5Vtu"
      },
      "outputs": [],
      "source": [
        "# save your model predictions\n",
        "'''pred_df = pd.DataFrame({'stars': predict_test, 'review_id': test_df['review_id']})\n",
        "pred_df.to_csv('pred.csv', index=False)'''"
      ]
    },
    {
      "cell_type": "markdown",
      "metadata": {
        "id": "n3690neh5Vtu"
      },
      "source": [
        " Then you may (download and) submit the predictions `pred.csv` on the test set. "
      ]
    },
    {
      "cell_type": "code",
      "execution_count": null,
      "metadata": {
        "id": "2zyeW01dY0Yn"
      },
      "outputs": [],
      "source": [
        "'''import tensorflow as tf\n",
        "from tensorflow.keras.models import Sequential\n",
        "from tensorflow.keras.layers import Dense\n",
        "from tensorflow.keras.optimizers import SGD\n",
        "from tensorflow.keras import regularizers\n",
        "\n",
        "\n",
        "def build_classifier(input_size, output_size, learning_rate=0.1):\n",
        "    \"\"\"\n",
        "    :param input_size: the dimension of the input, type: int\n",
        "    :param output_size: the dimension of the prediction, type: int\n",
        "    :param learning_rate: the learning rate for SGD\n",
        "    return a 1-layer perceptron,\n",
        "    \"\"\"\n",
        "    model = Sequential()\n",
        "    \n",
        "    # add 1 layer with softmax activation\n",
        "    # you should specify the output size, the input_size, and the activation function\n",
        "    model.add(Dense(output_size, activation=\"softmax\", input_dim=input_size, kernel_regularizer=regularizers.L1L2(l1=1e-3, l2=1e-3), bias_regularizer=regularizers.L2(1e-4),))\n",
        "    \n",
        "    # set the loss as categorical_crossentropy, the metric as accuracy, and the optimizer as SGD\n",
        "    model.compile(loss='categorical_crossentropy', optimizer=SGD(learning_rate=learning_rate), metrics=['accuracy'])\n",
        "    \n",
        "    return model'''"
      ]
    }
  ],
  "metadata": {
    "colab": {
      "provenance": []
    },
    "kernelspec": {
      "display_name": "Python 3",
      "language": "python",
      "name": "python3"
    },
    "language_info": {
      "codemirror_mode": {
        "name": "ipython",
        "version": 3
      },
      "file_extension": ".py",
      "mimetype": "text/x-python",
      "name": "python",
      "nbconvert_exporter": "python",
      "pygments_lexer": "ipython3",
      "version": "3.8.12"
    }
  },
  "nbformat": 4,
  "nbformat_minor": 0
}